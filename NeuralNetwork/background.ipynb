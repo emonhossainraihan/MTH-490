{
 "cells": [
  {
   "cell_type": "markdown",
   "metadata": {},
   "source": [
    "![](../images/construction-web-template.png)"
   ]
  },
  {
   "cell_type": "markdown",
   "metadata": {},
   "source": [
    "- [Connection between Neural Networks and Kernels](https://www.youtube.com/watch?v=HvEGJUwQEO8)\n",
    "- [Next-Generation Numerical Methods with PINN](https://www.youtube.com/watch?v=BiB82F_fgUw)\n",
    "- [what is GAN model ](https://www.youtube.com/results?search_query=what+is+GAN+model+&sp=CAM%253D)\n",
    "- [Fourier Neural Operator for Parametric Partial Differential Equations](https://www.youtube.com/watch?v=IaS72aHrJKE)\n",
    "- [Zongyi Li's talk on solving PDEs from data](https://www.youtube.com/watch?v=0Ve9xwNJO2o)\n",
    "\n",
    "\n",
    "https://anima-ai.org/"
   ]
  },
  {
   "cell_type": "markdown",
   "metadata": {},
   "source": [
    "fit() is for training the model with the given inputs (and corresponding training labels).\n",
    "\n",
    "evaluate() is for evaluating the already trained model using the validation (or test) data and the corresponding labels. Returns the loss value and metrics values for the model.\n",
    "\n",
    "predict() is for the actual prediction. It generates output predictions for the input samples."
   ]
  },
  {
   "cell_type": "markdown",
   "metadata": {},
   "source": [
    "# input and output\n",
    "\n",
    "https://datascience.stackexchange.com/questions/46124/what-do-compile-fit-and-predict-do-in-keras-sequential-models\n",
    "\n",
    "```py\n",
    "x = np.random.uniform(0.0, 1.0, (200))\n",
    "y = 0.3 + 0.6*x + np.random.normal(0.0, 0.05, len(y))\n",
    "```\n",
    "\n",
    "```py\n",
    "# A simple regression model\n",
    "model = Sequential()\n",
    "model.add(Dense(1, input_shape=(1,)))\n",
    "model.compile(loss='mse', optimizer='rmsprop')\n",
    "\n",
    "# The fit() method - trains the model\n",
    "model.fit(x, y, nb_epoch=1000, batch_size=100)\n",
    "\n",
    "Epoch 1000/1000\n",
    "200/200 [==============================] - 0s - loss: 0.0023\n",
    "\n",
    "# The evaluate() method - gets the loss statistics\n",
    "model.evaluate(x, y, batch_size=200)     \n",
    "# returns: loss: 0.0022612824104726315\n",
    "\n",
    "# The predict() method - predict the outputs for the given inputs\n",
    "model.predict(np.expand_dims(x[:3],1)) \n",
    "# returns: [ 0.65680361],[ 0.70067143],[ 0.70482892]\n",
    "```\n",
    "\n",
    "```\n",
    "# https://towardsdatascience.com/plot-a-tensorflow-model-with-keras-functional-api-f2db639dbbd8\n",
    "tf.keras.utils.plot_model(model, to_file=\"my_model.png\", show_shapes=True)\n",
    "```"
   ]
  },
  {
   "cell_type": "markdown",
   "metadata": {},
   "source": [
    "[backpropagation](https://hmkcode.com/ai/backpropagation-step-by-step/)\n",
    "\n",
    "[UvA Deep Learning Tutorials](https://uvadlc-notebooks.readthedocs.io/en/latest/)\n",
    "\n",
    "https://www.quantamagazine.org/latest-neural-nets-solve-worlds-hardest-equations-faster-than-ever-before-20210419/\n",
    "\n",
    "https://www.cs.toronto.edu/~rgrosse/courses/csc421_2019/\n",
    "\n",
    "https://github.com/benmoseley/FBPINNs\n",
    "\n",
    "https://greydanus.github.io/2020/03/10/lagrangian-nns/\n",
    "\n",
    "https://github.com/remcovandermeer/Optimally-Weighted-PINNs\n",
    "\n",
    "https://www.youtube.com/watch?v=Bd4KvlmGbY4\n",
    "\n",
    "https://jalammar.github.io/visual-numpy/\n",
    "\n",
    "https://bytebytego.com/"
   ]
  }
 ],
 "metadata": {
  "kernelspec": {
   "display_name": "Python 3.8.10 64-bit",
   "language": "python",
   "name": "python3"
  },
  "language_info": {
   "name": "python",
   "version": "3.8.10"
  },
  "orig_nbformat": 4,
  "vscode": {
   "interpreter": {
    "hash": "916dbcbb3f70747c44a77c7bcd40155683ae19c65e1c03b4aa3499c5328201f1"
   }
  }
 },
 "nbformat": 4,
 "nbformat_minor": 2
}
