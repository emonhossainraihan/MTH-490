{
 "cells": [
  {
   "cell_type": "markdown",
   "metadata": {},
   "source": [
    "An example of using ODEINT to solve the following differential equation:\n",
    "$$\\frac{dy(t)}{dt}=-ky(t)$$"
   ]
  },
  {
   "cell_type": "code",
   "execution_count": 2,
   "metadata": {},
   "outputs": [
    {
     "name": "stderr",
     "output_type": "stream",
     "text": [
      "/home/emonhossain/.local/lib/python3.8/site-packages/scipy/__init__.py:155: UserWarning: A NumPy version >=1.18.5 and <1.25.0 is required for this version of SciPy (detected version 1.17.4\n",
      "  warnings.warn(f\"A NumPy version >={np_minversion} and <{np_maxversion}\"\n"
     ]
    },
    {
     "data": {
      "image/png": "[encoded data removed]",
      "text/plain": [
       "<Figure size 432x288 with 1 Axes>"
      ]
     },
     "metadata": {
      "needs_background": "light"
     },
     "output_type": "display_data"
    }
   ],
   "source": [
    "import numpy as np\n",
    "from scipy.integrate import odeint\n",
    "import matplotlib.pyplot as plt\n",
    "\n",
    "# function that returns dy/dt\n",
    "def model(y,t,k):\n",
    "    dydt = -k * y\n",
    "    return dydt\n",
    "\n",
    "# initial condition\n",
    "y0 = 5\n",
    "\n",
    "# time points\n",
    "t = np.linspace(0,20)\n",
    "\n",
    "# solve ODEs\n",
    "k = 0.1\n",
    "y1 = odeint(model,y0,t,args=(k,))\n",
    "k = 0.2\n",
    "y2 = odeint(model,y0,t,args=(k,))\n",
    "k = 0.5\n",
    "y3 = odeint(model,y0,t,args=(k,))\n",
    "\n",
    "# plot results\n",
    "plt.plot(t,y1,'r-',linewidth=2,label='k=0.1')\n",
    "plt.plot(t,y2,'b--',linewidth=2,label='k=0.2')\n",
    "plt.plot(t,y3,'g:',linewidth=2,label='k=0.5')\n",
    "plt.xlabel('time')\n",
    "plt.ylabel('y(t)')\n",
    "plt.legend()\n",
    "plt.show()\n"
   ]
  },
  {
   "cell_type": "markdown",
   "metadata": {},
   "source": [
    "$$\n",
    "\\begin{gathered}\n",
    "\\frac{d x(t)}{d t}=3 \\exp (-t) \\\\\n",
    "\\frac{d y(t)}{d t}=3-y(t) \\\\\n",
    "x(0)=0 \\\\\n",
    "y(0)=0\n",
    "\\end{gathered}\n",
    "$$"
   ]
  },
  {
   "cell_type": "code",
   "execution_count": null,
   "metadata": {},
   "outputs": [],
   "source": [
    "import numpy as np\n",
    "from scipy.integrate import odeint\n",
    "import matplotlib.pyplot as plt\n",
    "\n",
    "# function that returns dz/dt\n",
    "def model(z,t):\n",
    "    dxdt = 3.0 * np.exp(-t)\n",
    "    dydt = -z[1] + 3\n",
    "    dzdt = [dxdt,dydt]\n",
    "    return dzdt\n",
    "\n",
    "# initial condition\n",
    "z0 = [0,0]\n",
    "\n",
    "# time points\n",
    "t = np.linspace(0,5)\n",
    "\n",
    "# solve ODE\n",
    "z = odeint(model,z0,t)\n",
    "\n",
    "# plot results\n",
    "plt.plot(t,z[:,0],'b-',label=r'$\\frac{dx}{dt}=3 \\; \\exp(-t)$')\n",
    "plt.plot(t,z[:,1],'r--',label=r'$\\frac{dy}{dt}=-y+3$')\n",
    "plt.ylabel('response')\n",
    "plt.xlabel('time')\n",
    "plt.legend(loc='best')\n",
    "plt.show()\n"
   ]
  }
 ],
 "metadata": {
  "kernelspec": {
   "display_name": "Python 3.8.10 64-bit",
   "language": "python",
   "name": "python3"
  },
  "language_info": {
   "codemirror_mode": {
    "name": "ipython",
    "version": 3
   },
   "file_extension": ".py",
   "mimetype": "text/x-python",
   "name": "python",
   "nbconvert_exporter": "python",
   "pygments_lexer": "ipython3",
   "version": "3.8.10"
  },
  "orig_nbformat": 4,
  "vscode": {
   "interpreter": {
    "hash": "916dbcbb3f70747c44a77c7bcd40155683ae19c65e1c03b4aa3499c5328201f1"
   }
  }
 },
 "nbformat": 4,
 "nbformat_minor": 2
}
