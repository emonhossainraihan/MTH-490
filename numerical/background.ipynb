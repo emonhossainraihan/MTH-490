{
 "cells": [
  {
   "cell_type": "markdown",
   "metadata": {},
   "source": [
    "## Finite Element Method\n",
    "\n",
    "Finite element methods were hugely popular in the solid mechanics industry. One of the reasons owing to their popularity was that most of the problems in solid mechanics can be essentially reduced to an energy minimization problem. This naturally leads to Galerkin discretization in the sense of finite element methods. Another interpretation of my statement can be that most of the problems in solid mechanics are highly symmetrical and hence, a Galerkin type discretization works well.\n",
    "\n",
    "In fluid mechanics, the presence of advective term does not allow the problem to be symmetric. Therefore, any numerical method based on symmetrical discretization does not work. This can be easily observed for centered finite difference expansions which are fully unstable. In Finite element methods, a Galerkin type discretization becomes analogous to a centered finite difference expansion which does not work."
   ]
  },
  {
   "cell_type": "markdown",
   "metadata": {},
   "source": [
    "## Why FVM\n",
    "\n",
    "Why most of the commercial CFD solvers are based on second order accurate Finite Volume methods? In the early 1980s, a lot of research emphasis was placed on developing reliable, robust and accurate CFD algorithms. Due to their inherent capability to ensure conservation, Finite Volume methods were being preferred by most academic experts. Furthermore, one of the major problems being faced at that time was how to handle the advective term.\n",
    "\n",
    "As is described in almost every CFD textbook, handling the advective term requires special care in the form of incorporating upwinding principles. In the 70s-80s, several mathematicians and academic experts were finding it very difficult to incorporate an upwinding strategy. However, after a lot of effort, Finite Volume methods were found to easily incorporate these principles during the evaluation of flux terms."
   ]
  },
  {
   "cell_type": "markdown",
   "metadata": {},
   "source": [
    "Therefore, in the 80s, FEM experts were facing a major hurdle of incorporating an upwinding strategy. However, they had to come out of their natural flavour of Galerkin discretizations and instead use a Petrov Galerkin strategy. In simple words, a Galerkin discretization has the same basis functions and test functions. On the other hand, in a Petrov Galerkin method, basis functions are different from their test functions. This allows one to make the method asymmetric and hence, incorporate upwinding. The earliest papers on this method can be traced back to the SUPG (Streamline Upwind Petrov Galerkin) method by Hughes.\n",
    "\n",
    "Even though finite element type methods were being developed with a lot of interest, most of the research in turbulence modelling community and other related areas in fluid mechanics involved the usage of Finite Volume and the finite difference methods. Therefore, in the 1990s, the commercial CFD industry naturally incorporated these methods into their solvers. In the past 10–15 years, there has been a renewed interest in the CFD algorithm development community to use the Discontinuous Galerkin methods. In general, these methods are a hybrid version of the Finite Volume and finite element type methods. Their ability to naturally incorporate upwinding and ensure conservation makes them an attractive choice for the future. The industry, however needs a major breakthrough to incorporate any new numerical method. This is because a major overhaul would be required to change all software architectures if any new numerical method is to be incorporated. This requires substantial investment of time and money.\n",
    "\n",
    "[Source](https://qr.ae/pvuXuG)"
   ]
  },
  {
   "cell_type": "markdown",
   "metadata": {},
   "source": [
    "Just because you write down an equation, it does not mean it has to be connected to anything in reality. It only do so to the extent you have adapted the equation and it's parameters to fit reality."
   ]
  },
  {
   "cell_type": "markdown",
   "metadata": {},
   "source": [
    "## Some useful resources\n",
    "\n",
    "- [Finite element methods in scientific computing course](https://www.math.colostate.edu/~bangerth/videos.html)\n",
    "- [Finite Elements full course](https://en.wikiversity.org/wiki/Finite_elements)\n",
    "- [How does calculus of variational work in finite element method?](https://math.stackexchange.com/questions/656902/how-does-calculus-of-variational-work-in-finite-element-method?rq=1)\n",
    "- [Finite Element Methods](https://www.math.uci.edu/~chenlong/ifemdoc/femdoc.html#:~:text=The%20finite%20element%20method%20)\n",
    "- [Solving the Poisson equation](https://hplgit.github.io/fenics-tutorial/pub/sphinx1/._ftut1003.html)"
   ]
  }
 ],
 "metadata": {
  "kernelspec": {
   "display_name": "Python 3.8.10 64-bit",
   "language": "python",
   "name": "python3"
  },
  "language_info": {
   "name": "python",
   "version": "3.8.10"
  },
  "orig_nbformat": 4,
  "vscode": {
   "interpreter": {
    "hash": "916dbcbb3f70747c44a77c7bcd40155683ae19c65e1c03b4aa3499c5328201f1"
   }
  }
 },
 "nbformat": 4,
 "nbformat_minor": 2
}
