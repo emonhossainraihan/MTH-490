{
 "cells": [
  {
   "cell_type": "markdown",
   "metadata": {},
   "source": [
    "## Latin hypercube sampling\n",
    "\n",
    "Latin hypercube sampling (LHS) is a statistical method for generating a near-random sample of parameter values from a multidimensional distribution. The sampling method is often used to construct computer experiments or for Monte Carlo integration.\n",
    "\n",
    "**Purpose:**\n",
    "Recreate the input distribution through less samples\n",
    "\n",
    "**Method:**\n",
    "- The key to this method is stratification of the input probability distribution.\n",
    "- Stratification divides the cumulative curve into equal intervals.\n",
    "- A sample is then randomly taken from each interval or \"stratification\".\n",
    "\n",
    "![](../images/lhs.png)"
   ]
  },
  {
   "cell_type": "markdown",
   "metadata": {},
   "source": [
    "## Latin Hypercube Sampling (Two Dimensions)\n",
    "\n",
    "In the context of statistical sampling, a square grid containing sample positions is a Latin Square if and only if there is only one sample in each row and each column.\n",
    "\n",
    "A Latin Hypercube is the generalisation of this concept to an arbitrary number of dimensions, whereby each sample is the only one in each axis-aligned hyperplane containing it."
   ]
  },
  {
   "cell_type": "markdown",
   "metadata": {},
   "source": [
    "## Monte Carlo vs. Latin Hypercube Sampling\n",
    "\n",
    "**Monte Carlo:**\n",
    "\n",
    "New sample points are generated without taking into account the previously generated sample point **(memoryless)**\n",
    "\n",
    "**Latin Hypercube Sampling:**\n",
    "\n",
    "We need to remember in which row and column the sample point was taken **(memory)**"
   ]
  }
 ],
 "metadata": {
  "kernelspec": {
   "display_name": "Python 3.8.10 64-bit",
   "language": "python",
   "name": "python3"
  },
  "language_info": {
   "name": "python",
   "version": "3.8.10"
  },
  "orig_nbformat": 4,
  "vscode": {
   "interpreter": {
    "hash": "916dbcbb3f70747c44a77c7bcd40155683ae19c65e1c03b4aa3499c5328201f1"
   }
  }
 },
 "nbformat": 4,
 "nbformat_minor": 2
}
